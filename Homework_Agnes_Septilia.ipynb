{
 "cells": [
  {
   "cell_type": "markdown",
   "id": "83eda792",
   "metadata": {},
   "source": [
    "## HOMEWORK SPARK FOR DIGITAL SKOLA DATA ENGINEER"
   ]
  },
  {
   "cell_type": "markdown",
   "id": "95afa09f",
   "metadata": {},
   "source": [
    "### STARTING THE SESSION"
   ]
  },
  {
   "cell_type": "code",
   "execution_count": 1,
   "id": "0d33d05e",
   "metadata": {},
   "outputs": [],
   "source": [
    "import findspark\n",
    "findspark.init()\n",
    "from pyspark.sql import SparkSession\n",
    "from pyspark.sql.functions import *\n",
    "from pyspark.sql.types import *"
   ]
  },
  {
   "cell_type": "code",
   "execution_count": 2,
   "id": "0321f4b8",
   "metadata": {},
   "outputs": [
    {
     "name": "stdout",
     "output_type": "stream",
     "text": [
      "22/11/05 12:31:09 WARN Utils: Your hostname, ALEXA-HP-Notebook resolves to a loopback address: 127.0.1.1; using 192.168.100.207 instead (on interface wlp2s0)\n",
      "22/11/05 12:31:09 WARN Utils: Set SPARK_LOCAL_IP if you need to bind to another address\n"
     ]
    },
    {
     "name": "stderr",
     "output_type": "stream",
     "text": [
      "Setting default log level to \"WARN\".\n",
      "To adjust logging level use sc.setLogLevel(newLevel). For SparkR, use setLogLevel(newLevel).\n"
     ]
    },
    {
     "name": "stdout",
     "output_type": "stream",
     "text": [
      "22/11/05 12:31:13 WARN NativeCodeLoader: Unable to load native-hadoop library for your platform... using builtin-java classes where applicable\n",
      "22/11/05 12:31:20 WARN Utils: Service 'SparkUI' could not bind on port 4040. Attempting port 4041.\n"
     ]
    }
   ],
   "source": [
    "spark = SparkSession \\\n",
    "    .builder \\\n",
    "    .master(\"local[*]\") \\\n",
    "    .appName(\"homework\") \\\n",
    "    .getOrCreate()"
   ]
  },
  {
   "cell_type": "code",
   "execution_count": 3,
   "id": "567ef897",
   "metadata": {},
   "outputs": [
    {
     "data": {
      "text/html": [
       "\n",
       "            <div>\n",
       "                <p><b>SparkSession - in-memory</b></p>\n",
       "                \n",
       "        <div>\n",
       "            <p><b>SparkContext</b></p>\n",
       "\n",
       "            <p><a href=\"http://192.168.100.207:4041\">Spark UI</a></p>\n",
       "\n",
       "            <dl>\n",
       "              <dt>Version</dt>\n",
       "                <dd><code>v3.3.1</code></dd>\n",
       "              <dt>Master</dt>\n",
       "                <dd><code>local[*]</code></dd>\n",
       "              <dt>AppName</dt>\n",
       "                <dd><code>homework</code></dd>\n",
       "            </dl>\n",
       "        </div>\n",
       "        \n",
       "            </div>\n",
       "        "
      ],
      "text/plain": [
       "<pyspark.sql.session.SparkSession at 0x7f3788c4a920>"
      ]
     },
     "execution_count": 3,
     "metadata": {},
     "output_type": "execute_result"
    }
   ],
   "source": [
    "spark_session = spark\n",
    "spark_session"
   ]
  },
  {
   "cell_type": "code",
   "execution_count": 4,
   "id": "1cc3e58b",
   "metadata": {},
   "outputs": [
    {
     "data": {
      "text/html": [
       "\n",
       "        <div>\n",
       "            <p><b>SparkContext</b></p>\n",
       "\n",
       "            <p><a href=\"http://192.168.100.207:4041\">Spark UI</a></p>\n",
       "\n",
       "            <dl>\n",
       "              <dt>Version</dt>\n",
       "                <dd><code>v3.3.1</code></dd>\n",
       "              <dt>Master</dt>\n",
       "                <dd><code>local[*]</code></dd>\n",
       "              <dt>AppName</dt>\n",
       "                <dd><code>homework</code></dd>\n",
       "            </dl>\n",
       "        </div>\n",
       "        "
      ],
      "text/plain": [
       "<SparkContext master=local[*] appName=homework>"
      ]
     },
     "execution_count": 4,
     "metadata": {},
     "output_type": "execute_result"
    }
   ],
   "source": [
    "sc = spark_session.sparkContext\n",
    "sc"
   ]
  },
  {
   "cell_type": "code",
   "execution_count": null,
   "id": "528a4c7c",
   "metadata": {},
   "outputs": [],
   "source": []
  },
  {
   "cell_type": "markdown",
   "id": "7ef401d9",
   "metadata": {},
   "source": [
    "### IMPORT DATA"
   ]
  },
  {
   "cell_type": "code",
   "execution_count": 5,
   "id": "b8b58afc",
   "metadata": {},
   "outputs": [
    {
     "data": {
      "text/plain": [
       "'/home/agnes/Documents/digital_skola/Homework/Homework_Agnes_Septilia_Spark'"
      ]
     },
     "execution_count": 5,
     "metadata": {},
     "output_type": "execute_result"
    }
   ],
   "source": [
    "import os\n",
    "from pyspark.sql.types import StructType,StructField, StringType, IntegerType\n",
    "os.getcwd()"
   ]
  },
  {
   "cell_type": "code",
   "execution_count": 6,
   "id": "2ac6600f",
   "metadata": {},
   "outputs": [
    {
     "name": "stderr",
     "output_type": "stream",
     "text": [
      "                                                                                \r"
     ]
    }
   ],
   "source": [
    "twitterDF = spark.read. \\\n",
    "    format(\"csv\"). \\\n",
    "    option(\"inferSchema\", \"true\"). \\\n",
    "    option(\"header\", \"true\"). \\\n",
    "    load(\"AkunTwitter_POS.csv\")"
   ]
  },
  {
   "cell_type": "code",
   "execution_count": 7,
   "id": "57623319",
   "metadata": {},
   "outputs": [
    {
     "name": "stdout",
     "output_type": "stream",
     "text": [
      "22/11/05 12:31:59 WARN package: Truncated the string representation of a plan since it was too large. This behavior can be adjusted by setting 'spark.sql.debug.maxToStringFields'.\n"
     ]
    },
    {
     "name": "stderr",
     "output_type": "stream",
     "text": [
      "                                                                                \r"
     ]
    },
    {
     "name": "stdout",
     "output_type": "stream",
     "text": [
      "+----------+---------------+----------+---------+-------------------+--------------------+---------+------------+-------------+-----+--------------------+-------------------+----+--------------------+-------------+--------------+-----------+--------------------+--------+--------------------+-------+---------+-----+----------+----+----+\n",
      "|        id|conversation_id|created_at|     date|               time|            timezone|  user_id|    username|         name|place|               tweet|           mentions|urls|              photos|replies_count|retweets_count|likes_count|            hashtags|cashtags|                link|retweet|quote_url|video|user_rt_id|near| geo|\n",
      "+----------+---------------+----------+---------+-------------------+--------------------+---------+------------+-------------+-----+--------------------+-------------------+----+--------------------+-------------+--------------+-----------+--------------------+--------+--------------------+-------+---------+-----+----------+----+----+\n",
      "| 1.1499E18|      1.1499E18|1.56299E12|7/13/2019|2022-11-05 11:44:07|SE Asia Standard ...|147137991|posindonesia|POS INDONESIA| null|Baik sahabat, tel...|        ['bektifa']|  []|                  []|            1|             0|          0|                  []|      []|https://twitter.c...|   null|     null|    0|      null|null|null|\n",
      "| 1.1499E18|     1.14989E18|1.56299E12|7/13/2019|2022-11-05 11:22:35|SE Asia Standard ...|147137991|posindonesia|POS INDONESIA| null|Hai sahabat. Kiri...|       ['rendiez1']|  []|                  []|            0|             0|          0|                  []|      []|https://twitter.c...|   null|     null|    0|      null|null|null|\n",
      "| 1.1499E18|     9.70629E17|1.56299E12|7/13/2019|2022-11-05 11:20:05|SE Asia Standard ...|147137991|posindonesia|POS INDONESIA| null|/ handphone pener...|        ['tutle21']|  []|                  []|            0|             0|          0|                  []|      []|https://twitter.c...|   null|     null|    0|      null|null|null|\n",
      "| 1.1499E18|     9.70629E17|1.56299E12|7/13/2019|2022-11-05 11:19:59|SE Asia Standard ...|147137991|posindonesia|POS INDONESIA| null|Hai sahabat, kiri...|        ['tutle21']|  []|                  []|            0|             0|          0|                  []|      []|https://twitter.c...|   null|     null|    0|      null|null|null|\n",
      "|1.14989E18|     1.14989E18|1.56299E12|7/13/2019|2022-11-05 11:07:58|SE Asia Standard ...|147137991|posindonesia|POS INDONESIA| null|Oranger menjaga s...|                 []|  []|['https://pbs.twi...|            0|             0|          1|['#posinaja', '#b...|      []|https://twitter.c...|   null|     null|    0|      null|null|null|\n",
      "|1.14987E18|     1.14986E18|1.56298E12|7/13/2019|2022-11-05 09:23:33|SE Asia Standard ...|147137991|posindonesia|POS INDONESIA| null|Hai sahabat. Untu...|    ['prayudipras']|  []|                  []|            0|             0|          0|                  []|      []|https://twitter.c...|   null|     null|    0|      null|null|null|\n",
      "|1.14986E18|     1.14986E18|1.56298E12|7/13/2019|2022-11-05 08:43:24|SE Asia Standard ...|147137991|posindonesia|POS INDONESIA| null|Terima kasih tela...|       ['muthemii']|  []|                  []|            0|             0|          0|                  []|      []|https://twitter.c...|   null|     null|    0|      null|null|null|\n",
      "|1.14985E18|     1.14984E18|1.56298E12|7/13/2019|2022-11-05 08:04:21|SE Asia Standard ...|147137991|posindonesia|POS INDONESIA| null|Hai sahabat. Moho...| ['hendfry_gerard']|  []|                  []|            0|             0|          0|                  []|      []|https://twitter.c...|   null|     null|    0|      null|null|null|\n",
      "|1.14984E18|     1.14983E18|1.56298E12|7/13/2019|2022-11-05 07:39:44|SE Asia Standard ...|147137991|posindonesia|POS INDONESIA| null|Hai sahabat. Moho...|      ['conkembon']|  []|                  []|            0|             0|          1|                  []|      []|https://twitter.c...|   null|     null|    0|      null|null|null|\n",
      "|1.14984E18|     1.14849E18|1.56298E12|7/13/2019|2022-11-05 07:37:39|SE Asia Standard ...|147137991|posindonesia|POS INDONESIA| null|Sama - sama sahab...|  ['temboksebelah']|  []|                  []|            0|             0|          0|                  []|      []|https://twitter.c...|   null|     null|    0|      null|null|null|\n",
      "|1.14984E18|     1.14983E18|1.56298E12|7/13/2019|2022-11-05 07:35:52|SE Asia Standard ...|147137991|posindonesia|POS INDONESIA| null|Hai sahabat. Kiri...|   ['bless_comjkt']|  []|                  []|            0|             0|          0|                  []|      []|https://twitter.c...|   null|     null|    0|      null|null|null|\n",
      "|1.14981E18|     1.14976E18|1.56297E12|7/13/2019|2022-11-05 05:26:52|SE Asia Standard ...|147137991|posindonesia|POS INDONESIA| null|biaya pelalubeaan...|     ['schyaphyra']|  []|                  []|            0|             0|          0|                  []|      []|https://twitter.c...|   null|     null|    0|      null|null|null|\n",
      "|1.14981E18|     1.14976E18|1.56297E12|7/13/2019|2022-11-05 05:26:52|SE Asia Standard ...|147137991|posindonesia|POS INDONESIA| null|Halo Sahabat, seb...|     ['schyaphyra']|  []|                  []|            0|             0|          0|                  []|      []|https://twitter.c...|   null|     null|    0|      null|null|null|\n",
      "|1.14981E18|      1.1498E18|1.56297E12|7/13/2019|2022-11-05 05:26:35|SE Asia Standard ...|147137991|posindonesia|POS INDONESIA| null|Berdasarkan hasil...|['outlet_terminal']|  []|                  []|            0|             0|          0|                  []|      []|https://twitter.c...|   null|     null|    0|      null|null|null|\n",
      "|1.14977E18|     1.14976E18|1.56296E12|7/13/2019|2022-11-05 02:52:46|SE Asia Standard ...|147137991|posindonesia|POS INDONESIA| null|Mohon diinformasi...|       ['reza_mix']|  []|                  []|            0|             0|          0|                  []|      []|https://twitter.c...|   null|     null|    0|      null|null|null|\n",
      "|1.14976E18|     1.14976E18|1.56296E12|7/13/2019|2022-11-05 02:03:34|SE Asia Standard ...|147137991|posindonesia|POS INDONESIA| null|kami informasikan...|       ['atsira15']|  []|                  []|            1|             0|          0|                  []|      []|https://twitter.c...|   null|     null|    0|      null|null|null|\n",
      "|1.14972E18|     1.14972E18|1.56295E12|7/12/2019|2022-11-05 23:39:13|SE Asia Standard ...|147137991|posindonesia|POS INDONESIA| null|Baik Sahabat, Moh...|     ['karramelia']|  []|                  []|            0|             0|          0|                  []|      []|https://twitter.c...|   null|     null|    0|      null|null|null|\n",
      "| 1.1497E18|     1.14951E18|1.56294E12|7/12/2019|2022-11-05 22:07:32|SE Asia Standard ...|147137991|posindonesia|POS INDONESIA| null|Halo Sahabat. Moh...|  ['aisyahamazlam']|  []|                  []|            0|             0|          0|                  []|      []|https://twitter.c...|   null|     null|    0|      null|null|null|\n",
      "| 1.1497E18|     1.14969E18|1.56294E12|7/12/2019|2022-11-05 22:05:06|SE Asia Standard ...|147137991|posindonesia|POS INDONESIA| null|Halo Sahabat pos....|     ['djoniganda']|  []|                  []|            0|             0|          0|                  []|      []|https://twitter.c...|   null|     null|    0|      null|null|null|\n",
      "|1.14968E18|     1.14968E18|1.56294E12|7/12/2019|2022-11-05 21:10:48|SE Asia Standard ...|147137991|posindonesia|POS INDONESIA| null|Baik sahabat moho...|       ['adiyaksa']|  []|                  []|            0|             0|          0|                  []|      []|https://twitter.c...|   null|     null|    0|      null|null|null|\n",
      "+----------+---------------+----------+---------+-------------------+--------------------+---------+------------+-------------+-----+--------------------+-------------------+----+--------------------+-------------+--------------+-----------+--------------------+--------+--------------------+-------+---------+-----+----------+----+----+\n",
      "only showing top 20 rows\n",
      "\n",
      "root\n",
      " |-- id: double (nullable = true)\n",
      " |-- conversation_id: double (nullable = true)\n",
      " |-- created_at: double (nullable = true)\n",
      " |-- date: string (nullable = true)\n",
      " |-- time: timestamp (nullable = true)\n",
      " |-- timezone: string (nullable = true)\n",
      " |-- user_id: integer (nullable = true)\n",
      " |-- username: string (nullable = true)\n",
      " |-- name: string (nullable = true)\n",
      " |-- place: string (nullable = true)\n",
      " |-- tweet: string (nullable = true)\n",
      " |-- mentions: string (nullable = true)\n",
      " |-- urls: string (nullable = true)\n",
      " |-- photos: string (nullable = true)\n",
      " |-- replies_count: string (nullable = true)\n",
      " |-- retweets_count: string (nullable = true)\n",
      " |-- likes_count: string (nullable = true)\n",
      " |-- hashtags: string (nullable = true)\n",
      " |-- cashtags: string (nullable = true)\n",
      " |-- link: string (nullable = true)\n",
      " |-- retweet: string (nullable = true)\n",
      " |-- quote_url: string (nullable = true)\n",
      " |-- video: string (nullable = true)\n",
      " |-- user_rt_id: string (nullable = true)\n",
      " |-- near: string (nullable = true)\n",
      " |-- geo: string (nullable = true)\n",
      "\n"
     ]
    }
   ],
   "source": [
    "twitterDF.show()\n",
    "twitterDF.printSchema()"
   ]
  },
  {
   "cell_type": "code",
   "execution_count": 8,
   "id": "42af1041",
   "metadata": {},
   "outputs": [
    {
     "name": "stderr",
     "output_type": "stream",
     "text": [
      "                                                                                \r"
     ]
    }
   ],
   "source": [
    "hashtagDF = spark.read. \\\n",
    "    format(\"csv\"). \\\n",
    "    option(\"inferSchema\", \"true\"). \\\n",
    "    option(\"header\", \"true\"). \\\n",
    "    load(\"HashtagTwitter_POS.csv\")"
   ]
  },
  {
   "cell_type": "code",
   "execution_count": 9,
   "id": "07038bc7",
   "metadata": {},
   "outputs": [
    {
     "name": "stdout",
     "output_type": "stream",
     "text": [
      "+--------+---------------+----------+---------+--------+--------------------+-------------+--------------+--------------------+-----+--------------------+--------------------+--------------------+--------------------+-------------+--------------+-----------+--------------------+--------+--------------------+-------+---------+-----+----------+----+----+\n",
      "|      id|conversation_id|created_at|     date|    time|            timezone|      user_id|      username|                name|place|               tweet|            mentions|                urls|              photos|replies_count|retweets_count|likes_count|            hashtags|cashtags|                link|retweet|quote_url|video|user_rt_id|near| geo|\n",
      "+--------+---------------+----------+---------+--------+--------------------+-------------+--------------+--------------------+-----+--------------------+--------------------+--------------------+--------------------+-------------+--------------+-----------+--------------------+--------+--------------------+-------+---------+-----+----------+----+----+\n",
      "|1.15E+18|       1.15E+18|  1.56E+12|7/13/2019| 9:49:32|SE Asia Standard ...|      8.63E17|  kantorpospbg|KantorPosPurbalingga| null|Ada Kiriman Uang?...|                  []|['https://www.ins...|                  []|            0|             0|          0|['#bumnhadiruntuk...|      []|https://twitter.c...|   null|     null|    0|      null|null|null|\n",
      "|1.15E+18|       1.15E+18|  1.56E+12|7/12/2019|20:35:22|SE Asia Standard ...|  6.9183155E7|      detikcom|            detikcom| null|Resi Pos merupaka...|    ['detikfinance']|['https://finance...|                  []|            3|            16|         46|['#posindonesia',...|      []|https://twitter.c...|   null|     null|    0|      null|null|null|\n",
      "|1.15E+18|       1.15E+18|  1.56E+12|7/12/2019|16:55:01|SE Asia Standard ...| 1.47137991E8|  posindonesia|       POS INDONESIA| null|Oranger, layanan ...|                  []|                  []|['https://pbs.twi...|            0|             1|          3|['#orangerinaja',...|      []|https://twitter.c...|   null|     null|    0|      null|null|null|\n",
      "|1.15E+18|       1.15E+18|  1.56E+12|7/11/2019| 9:27:02|SE Asia Standard ...|      1.09E18|        k59300|Kantor Pos Kudus ...| null|#Repost posindone...|                  []|['https://www.ins...|                  []|            0|             0|          0|['#repost', '#pos...|      []|https://twitter.c...|   null|     null|    0|      null|null|null|\n",
      "|1.15E+18|       1.15E+18|  1.56E+12|7/10/2019|17:46:01|SE Asia Standard ...| 1.47137991E8|  posindonesia|       POS INDONESIA| null|Kiriman lewat Pos...|                  []|                  []|['https://pbs.twi...|            5|             4|          4|['#posinaja', '#l...|      []|https://twitter.c...|   null|     null|    0|      null|null|null|\n",
      "|1.15E+18|       1.15E+18|  1.56E+12|7/10/2019|12:23:28|SE Asia Standard ...| 6.05349099E8|amantepatwaktu|               Mantu| null|Kenali Pos sedari...|    ['posindonesia']|                  []|['https://pbs.twi...|            0|             1|          1|['#posindonesia',...|      []|https://twitter.c...|   null|     null|    0|      null|null|null|\n",
      "|1.15E+18|       1.15E+18|  1.56E+12|7/10/2019| 9:28:21|SE Asia Standard ...|      8.63E17|  kantorpospbg|KantorPosPurbalingga| null|#Repost posindone...|                  []|['https://www.ins...|                  []|            0|             0|          0|['#repost', '#ora...|      []|https://twitter.c...|   null|     null|    0|      null|null|null|\n",
      "|1.15E+18|       1.15E+18|  1.56E+12| 7/9/2019|18:33:01|SE Asia Standard ...| 1.47137991E8|  posindonesia|       POS INDONESIA| null|Mau layanan Pos I...|                  []|                  []|['https://pbs.twi...|            1|             2|          1|['#orangerinaja',...|      []|https://twitter.c...|   null|     null|    0|      null|null|null|\n",
      "|1.15E+18|       1.15E+18|  1.56E+12| 7/9/2019|15:00:17|SE Asia Standard ...| 1.47137991E8|  posindonesia|       POS INDONESIA| null|Oranger Pos Indon...|                  []|                  []|['https://pbs.twi...|            1|             0|          2|['#posinaja', '#o...|      []|https://twitter.c...|   null|     null|    0|      null|null|null|\n",
      "|1.15E+18|       1.15E+18|  1.56E+12| 7/9/2019|12:52:51|SE Asia Standard ...|      1.09E18|        k59300|Kantor Pos Kudus ...| null|#Repost posindone...|                  []|['https://www.ins...|                  []|            0|             0|          0|['#repost', '#met...|      []|https://twitter.c...|   null|     null|    0|      null|null|null|\n",
      "|1.15E+18|       1.15E+18|  1.56E+12| 7/9/2019|10:45:55|SE Asia Standard ...| 9.10272901E8|     tokondutz|           tokondutz| null|Sale cd audio  #s...|                  []|['https://www.ins...|                  []|            0|             0|          0|['#sale', '#audio...|      []|https://twitter.c...|   null|     null|    0|      null|null|null|\n",
      "|1.15E+18|       1.15E+18|  1.56E+12| 7/9/2019| 9:13:32|SE Asia Standard ...| 9.10272901E8|     tokondutz|           tokondutz| null|Sale cd audio  #s...|                  []|['https://www.ins...|                  []|            0|             0|          0|['#sale', '#audio...|      []|https://twitter.c...|   null|     null|    0|      null|null|null|\n",
      "|1.15E+18|       1.15E+18|  1.56E+12| 7/7/2019| 9:01:46|SE Asia Standard ...|      8.63E17|  kantorpospbg|KantorPosPurbalingga| null|#Repost posindone...|                  []|['https://www.ins...|                  []|            0|             0|          0|['#repost', '#met...|      []|https://twitter.c...|   null|     null|    0|      null|null|null|\n",
      "|1.15E+18|       1.15E+18|  1.56E+12| 7/6/2019|21:16:05|SE Asia Standard ...| 1.47137991E8|  posindonesia|       POS INDONESIA| null|Hati-hati dalam m...|                  []|                  []|['https://pbs.twi...|            0|             7|          5|['#meterai', '#po...|      []|https://twitter.c...|   null|     null|    0|      null|null|null|\n",
      "|1.15E+18|       1.15E+18|  1.56E+12| 7/5/2019|16:39:08|SE Asia Standard ...|2.268444829E9|aboben_variasi|Aboben Variasi Motor| null|Kita ga cuma mela...|                  []|                  []|['https://pbs.twi...|            0|             1|          1|['#gojek', '#grab...|      []|https://twitter.c...|   null|     null|    0|      null|null|null|\n",
      "|1.15E+18|       1.15E+18|  1.56E+12| 7/5/2019| 2:56:19|SE Asia Standard ...|      1.14E18|  therapistsby|PIJAT SURABAYA BOY'S| null|Ready stock #dild...|['cumaadam', 'sur...|                  []|['https://pbs.twi...|            1|             1|          1|['#dildo', '#dild...|      []|https://twitter.c...|   null|     null|    0|      null|null|null|\n",
      "|1.15E+18|       1.15E+18|  1.56E+12| 7/4/2019| 8:21:01|SE Asia Standard ...| 1.47137991E8|  posindonesia|       POS INDONESIA| null|Kantor pos sekara...|                  []|                  []|['https://pbs.twi...|            3|             1|          7|['#posindonesia',...|      []|https://twitter.c...|   null|     null|    0|      null|null|null|\n",
      "|1.15E+18|       1.15E+18|  1.56E+12| 7/2/2019|20:16:43|SE Asia Standard ...| 1.47137991E8|  posindonesia|       POS INDONESIA| null|Pengen kirim untu...|                  []|                  []|['https://pbs.twi...|            0|             1|          1|['#posinaja', '#p...|      []|https://twitter.c...|   null|     null|    0|      null|null|null|\n",
      "|1.15E+18|       1.15E+18|  1.56E+12| 7/1/2019|13:13:59|SE Asia Standard ...|2.827596835E9|     hardy49jr|           Hardy_SG8| null|Riding lagi.. ngu...|                  []|['https://www.ins...|                  []|            0|             0|          0|['#impi', '#posin...|      []|https://twitter.c...|   null|     null|    0|      null|null|null|\n",
      "|1.14E+18|       1.14E+18|  1.56E+12|6/29/2019| 8:07:05|SE Asia Standard ...|      8.63E17|  kantorpospbg|KantorPosPurbalingga| null|Selalu Sigap Memb...|                  []|['https://www.ins...|                  []|            0|             0|          1|['#posindonesia',...|      []|https://twitter.c...|   null|     null|    0|      null|null|null|\n",
      "+--------+---------------+----------+---------+--------+--------------------+-------------+--------------+--------------------+-----+--------------------+--------------------+--------------------+--------------------+-------------+--------------+-----------+--------------------+--------+--------------------+-------+---------+-----+----------+----+----+\n",
      "only showing top 20 rows\n",
      "\n",
      "root\n",
      " |-- id: string (nullable = true)\n",
      " |-- conversation_id: string (nullable = true)\n",
      " |-- created_at: string (nullable = true)\n",
      " |-- date: string (nullable = true)\n",
      " |-- time: string (nullable = true)\n",
      " |-- timezone: string (nullable = true)\n",
      " |-- user_id: double (nullable = true)\n",
      " |-- username: string (nullable = true)\n",
      " |-- name: string (nullable = true)\n",
      " |-- place: string (nullable = true)\n",
      " |-- tweet: string (nullable = true)\n",
      " |-- mentions: string (nullable = true)\n",
      " |-- urls: string (nullable = true)\n",
      " |-- photos: string (nullable = true)\n",
      " |-- replies_count: string (nullable = true)\n",
      " |-- retweets_count: string (nullable = true)\n",
      " |-- likes_count: string (nullable = true)\n",
      " |-- hashtags: string (nullable = true)\n",
      " |-- cashtags: string (nullable = true)\n",
      " |-- link: string (nullable = true)\n",
      " |-- retweet: string (nullable = true)\n",
      " |-- quote_url: string (nullable = true)\n",
      " |-- video: string (nullable = true)\n",
      " |-- user_rt_id: string (nullable = true)\n",
      " |-- near: string (nullable = true)\n",
      " |-- geo: integer (nullable = true)\n",
      "\n"
     ]
    }
   ],
   "source": [
    "hashtagDF.show()\n",
    "hashtagDF.printSchema()"
   ]
  },
  {
   "cell_type": "code",
   "execution_count": 10,
   "id": "694f96a1",
   "metadata": {
    "scrolled": true
   },
   "outputs": [
    {
     "name": "stderr",
     "output_type": "stream",
     "text": [
      "                                                                                \r"
     ]
    }
   ],
   "source": [
    "instaDF = spark.read.format(\"json\").load(\"Instagram_POS.json\")"
   ]
  },
  {
   "cell_type": "code",
   "execution_count": 11,
   "id": "04274261",
   "metadata": {},
   "outputs": [
    {
     "name": "stderr",
     "output_type": "stream",
     "text": [
      "\r",
      "[Stage 7:>                                                          (0 + 1) / 1]\r"
     ]
    },
    {
     "name": "stdout",
     "output_type": "stream",
     "text": [
      "+--------------------+--------------------+--------------------+--------------------+--------------------+\n",
      "|             caption|            comments|            datetime|            img_urls|                 key|\n",
      "+--------------------+--------------------+--------------------+--------------------+--------------------+\n",
      "|Oranger menjaga s...|[{mamah.asyraf, C...|2019-07-13T04:06:...|[https://scontent...|https://www.insta...|\n",
      "|Oranger, layanan ...|[{rizqimuhammad77...|2019-07-12T09:55:...|[https://scontent...|https://www.insta...|\n",
      "|Selamat hari kope...|[{evan_mardiyanto...|2019-07-12T02:21:...|[https://scontent...|https://www.insta...|\n",
      "|Kuliah? di @polte...|[{dicky.ra_, @pos...|2019-07-11T05:19:...|[https://scontent...|https://www.insta...|\n",
      "|Selamat ulang tah...|[{hey.rudd, Kak.....|2019-07-11T01:22:...|[https://scontent...|https://www.insta...|\n",
      "|Kiriman lewat Pos...|[{rienlilitanty, ...|2019-07-10T10:46:...|[https://scontent...|https://www.insta...|\n",
      "|Sedang mencari ka...|[{nurdianing, min...|2019-07-10T07:08:...|[https://scontent...|https://www.insta...|\n",
      "|Lacak kiriman, ca...|[{roadsins, @posi...|2019-07-10T05:15:...|[https://scontent...|https://www.insta...|\n",
      "|Mau layanan Pos I...|[{posindonesia.ig...|2019-07-09T11:33:...|[https://scontent...|https://www.insta...|\n",
      "|Oranger Pos Indon...|[{w.hattari, Ada ...|2019-07-09T08:00:...|[https://scontent...|https://www.insta...|\n",
      "|Meriah, ceria di ...|[{aqmalfrz, manta...|2019-07-09T06:58:...|[https://scontent...|https://www.insta...|\n",
      "|Sumpah Palapa men...|                null|2019-07-09T05:05:...|[https://scontent...|https://www.insta...|\n",
      "|Selamat ulang tah...|[{selaputdarakemb...|2019-07-09T00:00:...|[https://scontent...|https://www.insta...|\n",
      "|Duh kirimannya ba...|[{dwikipriya86, @...|2019-07-08T06:39:...|[https://scontent...|https://www.insta...|\n",
      "|Dengan semangat y...|[{syamsul_manalu2...|2019-07-07T11:29:...|[https://scontent...|https://www.insta...|\n",
      "|Keluarga Besar Po...|[{gembong_sugiyar...|2019-07-07T02:18:...|[https://scontent...|https://www.insta...|\n",
      "|Hati-hati dalam m...|[{posindonesia.ig...|2019-07-06T14:15:...|[https://scontent...|https://www.insta...|\n",
      "|Menemani malam mi...|[{posindonesia.ig...|2019-07-06T13:01:...|[https://scontent...|https://www.insta...|\n",
      "|Selamat ulang tah...|[{posindonesia.ig...|2019-07-06T01:07:...|[https://scontent...|https://www.insta...|\n",
      "|Semakin sukses, s...|[{alivmart, @posi...|2019-07-05T06:54:...|[https://scontent...|https://www.insta...|\n",
      "+--------------------+--------------------+--------------------+--------------------+--------------------+\n",
      "only showing top 20 rows\n",
      "\n",
      "root\n",
      " |-- caption: string (nullable = true)\n",
      " |-- comments: array (nullable = true)\n",
      " |    |-- element: struct (containsNull = true)\n",
      " |    |    |-- author: string (nullable = true)\n",
      " |    |    |-- comment: string (nullable = true)\n",
      " |-- datetime: string (nullable = true)\n",
      " |-- img_urls: array (nullable = true)\n",
      " |    |-- element: string (containsNull = true)\n",
      " |-- key: string (nullable = true)\n",
      "\n"
     ]
    },
    {
     "name": "stderr",
     "output_type": "stream",
     "text": [
      "\r",
      "                                                                                \r"
     ]
    }
   ],
   "source": [
    "instaDF.show()\n",
    "instaDF.printSchema()"
   ]
  },
  {
   "cell_type": "code",
   "execution_count": null,
   "id": "6095fe1f",
   "metadata": {},
   "outputs": [],
   "source": []
  },
  {
   "cell_type": "markdown",
   "id": "a003b747",
   "metadata": {},
   "source": [
    "### SELECT NECESSARY COLUMNS FROM EACH SOURCES "
   ]
  },
  {
   "cell_type": "code",
   "execution_count": 12,
   "id": "30456b5a",
   "metadata": {},
   "outputs": [
    {
     "name": "stdout",
     "output_type": "stream",
     "text": [
      "+------------+--------------------+-------+\n",
      "|    username|             content| source|\n",
      "+------------+--------------------+-------+\n",
      "|posindonesia|Baik sahabat, tel...|Twitter|\n",
      "|posindonesia|Hai sahabat. Kiri...|Twitter|\n",
      "|posindonesia|/ handphone pener...|Twitter|\n",
      "|posindonesia|Hai sahabat, kiri...|Twitter|\n",
      "|posindonesia|Oranger menjaga s...|Twitter|\n",
      "|posindonesia|Hai sahabat. Untu...|Twitter|\n",
      "|posindonesia|Terima kasih tela...|Twitter|\n",
      "|posindonesia|Hai sahabat. Moho...|Twitter|\n",
      "|posindonesia|Hai sahabat. Moho...|Twitter|\n",
      "|posindonesia|Sama - sama sahab...|Twitter|\n",
      "|posindonesia|Hai sahabat. Kiri...|Twitter|\n",
      "|posindonesia|biaya pelalubeaan...|Twitter|\n",
      "|posindonesia|Halo Sahabat, seb...|Twitter|\n",
      "|posindonesia|Berdasarkan hasil...|Twitter|\n",
      "|posindonesia|Mohon diinformasi...|Twitter|\n",
      "|posindonesia|kami informasikan...|Twitter|\n",
      "|posindonesia|Baik Sahabat, Moh...|Twitter|\n",
      "|posindonesia|Halo Sahabat. Moh...|Twitter|\n",
      "|posindonesia|Halo Sahabat pos....|Twitter|\n",
      "|posindonesia|Baik sahabat moho...|Twitter|\n",
      "+------------+--------------------+-------+\n",
      "only showing top 20 rows\n",
      "\n"
     ]
    }
   ],
   "source": [
    "# get username and content\n",
    "twitterDF_2 = twitterDF.select(col(\"username\"),col(\"tweet\").alias(\"content\"))\n",
    "\n",
    "# drop null value\n",
    "twitterDF_2.na.drop(\"any\")\n",
    "\n",
    "# add source column\n",
    "twitterDF_2 = twitterDF_2.withColumn(\"source\", lit(\"Twitter\"))\n",
    "\n",
    "# show result\n",
    "twitterDF_2.show()"
   ]
  },
  {
   "cell_type": "code",
   "execution_count": 13,
   "id": "a58df3c7",
   "metadata": {},
   "outputs": [
    {
     "name": "stdout",
     "output_type": "stream",
     "text": [
      "+--------------+--------------------+---------------+\n",
      "|      username|             content|         source|\n",
      "+--------------+--------------------+---------------+\n",
      "|  kantorpospbg|Ada Kiriman Uang?...|Twitter Hashtag|\n",
      "|      detikcom|Resi Pos merupaka...|Twitter Hashtag|\n",
      "|  posindonesia|Oranger, layanan ...|Twitter Hashtag|\n",
      "|        k59300|#Repost posindone...|Twitter Hashtag|\n",
      "|  posindonesia|Kiriman lewat Pos...|Twitter Hashtag|\n",
      "|amantepatwaktu|Kenali Pos sedari...|Twitter Hashtag|\n",
      "|  kantorpospbg|#Repost posindone...|Twitter Hashtag|\n",
      "|  posindonesia|Mau layanan Pos I...|Twitter Hashtag|\n",
      "|  posindonesia|Oranger Pos Indon...|Twitter Hashtag|\n",
      "|        k59300|#Repost posindone...|Twitter Hashtag|\n",
      "|     tokondutz|Sale cd audio  #s...|Twitter Hashtag|\n",
      "|     tokondutz|Sale cd audio  #s...|Twitter Hashtag|\n",
      "|  kantorpospbg|#Repost posindone...|Twitter Hashtag|\n",
      "|  posindonesia|Hati-hati dalam m...|Twitter Hashtag|\n",
      "|aboben_variasi|Kita ga cuma mela...|Twitter Hashtag|\n",
      "|  therapistsby|Ready stock #dild...|Twitter Hashtag|\n",
      "|  posindonesia|Kantor pos sekara...|Twitter Hashtag|\n",
      "|  posindonesia|Pengen kirim untu...|Twitter Hashtag|\n",
      "|     hardy49jr|Riding lagi.. ngu...|Twitter Hashtag|\n",
      "|  kantorpospbg|Selalu Sigap Memb...|Twitter Hashtag|\n",
      "+--------------+--------------------+---------------+\n",
      "only showing top 20 rows\n",
      "\n"
     ]
    }
   ],
   "source": [
    "# get username and content\n",
    "hashtagDF_2 = hashtagDF.select(col(\"username\"),col(\"tweet\").alias(\"content\"))\n",
    "\n",
    "# drop null value\n",
    "hashtagDF_2.na.drop(\"any\")\n",
    "\n",
    "# add source column\n",
    "hashtagDF_2 = hashtagDF_2.withColumn(\"source\", lit(\"Twitter Hashtag\"))\n",
    "\n",
    "# show result\n",
    "hashtagDF_2.show()"
   ]
  },
  {
   "cell_type": "code",
   "execution_count": 14,
   "id": "ab89f58c",
   "metadata": {},
   "outputs": [],
   "source": [
    "# create function to flatten the array\n",
    "def FlatDF(schema, prefix=None):\n",
    "        fields = []\n",
    "        for field in schema.fields:\n",
    "            name = prefix + '.' + field.name if prefix else field.name\n",
    "            dtype = field.dataType\n",
    "            if isinstance(dtype, ArrayType):\n",
    "                dtype = dtype.elementType\n",
    "\n",
    "            if isinstance(dtype, StructType):\n",
    "                fields += FlatDF(dtype, prefix=name)\n",
    "            else:\n",
    "                fields.append(name)\n",
    "\n",
    "        return fields"
   ]
  },
  {
   "cell_type": "code",
   "execution_count": 15,
   "id": "cdc5f6c1",
   "metadata": {},
   "outputs": [],
   "source": [
    "instaDF = instaDF.select(FlatDF(instaDF.schema))"
   ]
  },
  {
   "cell_type": "code",
   "execution_count": 16,
   "id": "a87b64d2",
   "metadata": {},
   "outputs": [
    {
     "name": "stderr",
     "output_type": "stream",
     "text": [
      "                                                                                \r"
     ]
    },
    {
     "name": "stdout",
     "output_type": "stream",
     "text": [
      "+--------------------+--------------------+--------------------+--------------------+--------------------+--------------------+\n",
      "|             caption|              author|             comment|            datetime|            img_urls|                 key|\n",
      "+--------------------+--------------------+--------------------+--------------------+--------------------+--------------------+\n",
      "|Oranger menjaga s...|[mamah.asyraf, po...|[Cek DM, Baik, Sa...|2019-07-13T04:06:...|[https://scontent...|https://www.insta...|\n",
      "|Oranger, layanan ...|[rizqimuhammad77,...|[@ari_hr04 @adi04...|2019-07-12T09:55:...|[https://scontent...|https://www.insta...|\n",
      "|Selamat hari kope...|[evan_mardiyanto,...|[Min mohon segera...|2019-07-12T02:21:...|[https://scontent...|https://www.insta...|\n",
      "|Kuliah? di @polte...|[dicky.ra_, posin...|[@posindonesia.ig...|2019-07-11T05:19:...|[https://scontent...|https://www.insta...|\n",
      "|Selamat ulang tah...|[hey.rudd, jovian...|[Kak.. mau tanya....|2019-07-11T01:22:...|[https://scontent...|https://www.insta...|\n",
      "|Kiriman lewat Pos...|[rienlilitanty, p...|[16220644991 tolo...|2019-07-10T10:46:...|[https://scontent...|https://www.insta...|\n",
      "|Sedang mencari ka...|[nurdianing, posi...|[min, tolong cek ...|2019-07-10T07:08:...|[https://scontent...|https://www.insta...|\n",
      "|Lacak kiriman, ca...|[roadsins, posind...|[@posindonesia.ig...|2019-07-10T05:15:...|[https://scontent...|https://www.insta...|\n",
      "|Mau layanan Pos I...|[posindonesia.ig,...|[Halo Sahabat pos...|2019-07-09T11:33:...|[https://scontent...|https://www.insta...|\n",
      "|Oranger Pos Indon...|[w.hattari, irene...|[Ada loker gak?, ...|2019-07-09T08:00:...|[https://scontent...|https://www.insta...|\n",
      "|Meriah, ceria di ...|          [aqmalfrz]|  [mantap @andif17n]|2019-07-09T06:58:...|[https://scontent...|https://www.insta...|\n",
      "|Sumpah Palapa men...|                null|                null|2019-07-09T05:05:...|[https://scontent...|https://www.insta...|\n",
      "|Selamat ulang tah...|[selaputdarakemba...|[@posindonesia.ig...|2019-07-09T00:00:...|[https://scontent...|https://www.insta...|\n",
      "|Duh kirimannya ba...|[dwikipriya86, po...|[@posindonesia.ig...|2019-07-08T06:39:...|[https://scontent...|https://www.insta...|\n",
      "|Dengan semangat y...|[syamsul_manalu23...|[Spertunya gtu ma...|2019-07-07T11:29:...|[https://scontent...|https://www.insta...|\n",
      "|Keluarga Besar Po...|[gembong_sugiyars...|[Semoga husnul kh...|2019-07-07T02:18:...|[https://scontent...|https://www.insta...|\n",
      "|Hati-hati dalam m...|[posindonesia.ig,...|[Baik ditunggu un...|2019-07-06T14:15:...|[https://scontent...|https://www.insta...|\n",
      "|Menemani malam mi...|[posindonesia.ig,...|[Baik hijau maupu...|2019-07-06T13:01:...|[https://scontent...|https://www.insta...|\n",
      "|Selamat ulang tah...|[posindonesia.ig,...|[Mohon maaf atas ...|2019-07-06T01:07:...|[https://scontent...|https://www.insta...|\n",
      "|Semakin sukses, s...|[alivmart, posind...|[@posindonesia.ig...|2019-07-05T06:54:...|[https://scontent...|https://www.insta...|\n",
      "+--------------------+--------------------+--------------------+--------------------+--------------------+--------------------+\n",
      "only showing top 20 rows\n",
      "\n",
      "root\n",
      " |-- caption: string (nullable = true)\n",
      " |-- author: array (nullable = true)\n",
      " |    |-- element: string (containsNull = true)\n",
      " |-- comment: array (nullable = true)\n",
      " |    |-- element: string (containsNull = true)\n",
      " |-- datetime: string (nullable = true)\n",
      " |-- img_urls: array (nullable = true)\n",
      " |    |-- element: string (containsNull = true)\n",
      " |-- key: string (nullable = true)\n",
      "\n"
     ]
    }
   ],
   "source": [
    "instaDF.show()\n",
    "instaDF.printSchema()"
   ]
  },
  {
   "cell_type": "code",
   "execution_count": 17,
   "id": "751712d9",
   "metadata": {},
   "outputs": [
    {
     "name": "stderr",
     "output_type": "stream",
     "text": [
      "\r",
      "[Stage 11:>                                                         (0 + 1) / 1]\r"
     ]
    },
    {
     "name": "stdout",
     "output_type": "stream",
     "text": [
      "+-------------------+--------------------+---------+\n",
      "|           username|             content|   source|\n",
      "+-------------------+--------------------+---------+\n",
      "|       mamah.asyraf|              Cek DM|Instagram|\n",
      "|    posindonesia.ig|Baik, Sahabat, mo...|Instagram|\n",
      "|    akhirini_husein|Kiriman saya tida...|Instagram|\n",
      "|    posindonesia.ig|Halo, Sahabat, bi...|Instagram|\n",
      "|             figha_|Pengambilan paket...|Instagram|\n",
      "|    posindonesia.ig|Halo, Sahabat. Mo...|Instagram|\n",
      "|             figha_|@posindonesia.ig ...|Instagram|\n",
      "|    posindonesia.ig|Sama-sama Sahabat...|Instagram|\n",
      "|       phytastoreso|Kak tolong cek dm...|Instagram|\n",
      "|    posindonesia.ig|Baik, telah kami ...|Instagram|\n",
      "|             figha_|Kalo mengambil pa...|Instagram|\n",
      "|    rizqimuhammad77|@ari_hr04 @adi047...|Instagram|\n",
      "|griyakulakannganjuk|Kirim paket belum...|Instagram|\n",
      "|             snttaa|Tolong cek STR040...|Instagram|\n",
      "|           widie489|https://ecoracing...|Instagram|\n",
      "|    posindonesia.ig|Boleh diinformasi...|Instagram|\n",
      "|    posindonesia.ig|Menurut investiga...|Instagram|\n",
      "|   keziacatherine.s|Min, bis Surat su...|Instagram|\n",
      "|    posindonesia.ig|Bisa surat masih ...|Instagram|\n",
      "|      audreygraciam|Hi min, tolong li...|Instagram|\n",
      "+-------------------+--------------------+---------+\n",
      "only showing top 20 rows\n",
      "\n"
     ]
    },
    {
     "name": "stderr",
     "output_type": "stream",
     "text": [
      "\r",
      "                                                                                \r"
     ]
    }
   ],
   "source": [
    "# get username and content\n",
    "instaDF_2 = instaDF.withColumn(\"author_comment\", arrays_zip(\"author\",\"comment\")) \\\n",
    "    .select(explode(\"author_comment\").alias(\"ac\")) \\\n",
    "    .select(col(\"ac.author\").alias(\"username\"),col(\"ac.comment\").alias(\"content\"))\n",
    "\n",
    "# drop null value\n",
    "instaDF_2.na.drop(\"any\")\n",
    "\n",
    "# add source column\n",
    "instaDF_2 = instaDF_2.withColumn(\"source\", lit(\"Instagram\"))\n",
    "\n",
    "# show result\n",
    "instaDF_2.show()"
   ]
  },
  {
   "cell_type": "code",
   "execution_count": null,
   "id": "51ed3d76",
   "metadata": {},
   "outputs": [],
   "source": []
  },
  {
   "cell_type": "markdown",
   "id": "89153112",
   "metadata": {},
   "source": [
    "### COMBINE ALL DATA INTO ONE TABLE"
   ]
  },
  {
   "cell_type": "code",
   "execution_count": 18,
   "id": "41ca6b1a",
   "metadata": {},
   "outputs": [
    {
     "name": "stderr",
     "output_type": "stream",
     "text": [
      "[Stage 14:>                                                         (0 + 1) / 1]\r"
     ]
    },
    {
     "name": "stdout",
     "output_type": "stream",
     "text": [
      "+------------+--------------------+-------+\n",
      "|    username|             content| source|\n",
      "+------------+--------------------+-------+\n",
      "|posindonesia|sebesar Rp20.000,...|Twitter|\n",
      "|posindonesia|Halo, Sahabat. Ut...|Twitter|\n",
      "|posindonesia|Baik sahabat,suda...|Twitter|\n",
      "|posindonesia|POS INDONESIA (PE...|Twitter|\n",
      "|posindonesia|Hai sahabat, untu...|Twitter|\n",
      "|posindonesia|Ada yang dapat ka...|Twitter|\n",
      "|posindonesia|Selamat ulang tah...|Twitter|\n",
      "|posindonesia|Halo, sahabat. Te...|Twitter|\n",
      "|posindonesia|perjalanan, mohon...|Twitter|\n",
      "|posindonesia|Mohon maaf atas k...|Twitter|\n",
      "|posindonesia|Mohon diinformasi...|Twitter|\n",
      "|posindonesia|Utk kiriman gagal...|Twitter|\n",
      "|posindonesia|Baik sahabat. moh...|Twitter|\n",
      "|posindonesia|Halo, sahabat. Ki...|Twitter|\n",
      "|posindonesia|Halo sahabat, Men...|Twitter|\n",
      "|posindonesia|Halo sahabat, moh...|Twitter|\n",
      "|posindonesia|Halo sahabat pos....|Twitter|\n",
      "|posindonesia|Kiriman sahabat d...|Twitter|\n",
      "|posindonesia|Halo sahabat, Moh...|Twitter|\n",
      "|posindonesia|Halo sahabat Pos,...|Twitter|\n",
      "+------------+--------------------+-------+\n",
      "only showing top 20 rows\n",
      "\n"
     ]
    },
    {
     "name": "stderr",
     "output_type": "stream",
     "text": [
      "\r",
      "                                                                                \r"
     ]
    }
   ],
   "source": [
    "df1 = twitterDF_2.union(hashtagDF_2).distinct()\n",
    "df2 = df1.union(instaDF_2).distinct()\n",
    "df2.show()"
   ]
  },
  {
   "cell_type": "code",
   "execution_count": null,
   "id": "260de383",
   "metadata": {},
   "outputs": [],
   "source": []
  },
  {
   "cell_type": "markdown",
   "id": "93bf2cc8",
   "metadata": {},
   "source": [
    "### CLOSE SESSION"
   ]
  },
  {
   "cell_type": "code",
   "execution_count": 19,
   "id": "e93bde39",
   "metadata": {},
   "outputs": [],
   "source": [
    "spark_session.stop()"
   ]
  }
 ],
 "metadata": {
  "kernelspec": {
   "display_name": "Python 3 (ipykernel)",
   "language": "python",
   "name": "python3"
  },
  "language_info": {
   "codemirror_mode": {
    "name": "ipython",
    "version": 3
   },
   "file_extension": ".py",
   "mimetype": "text/x-python",
   "name": "python",
   "nbconvert_exporter": "python",
   "pygments_lexer": "ipython3",
   "version": "3.10.6"
  }
 },
 "nbformat": 4,
 "nbformat_minor": 5
}
